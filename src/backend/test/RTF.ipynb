{
 "cells": [
  {
   "cell_type": "code",
   "execution_count": 2,
   "metadata": {},
   "outputs": [],
   "source": [
    "import time\n",
    "from datasets import load_dataset"
   ]
  },
  {
   "cell_type": "code",
   "execution_count": 7,
   "metadata": {},
   "outputs": [
    {
     "name": "stderr",
     "output_type": "stream",
     "text": [
      "Found cached dataset librispeech_asr_demo (/Users/ryanselesnik/.cache/huggingface/datasets/hf-internal-testing___librispeech_asr_demo/clean/2.1.0/d3bc4c2bc2078fcde3ad0f0f635862e4c0fef78ba94c4a34c4c250a097af240b)\n"
     ]
    }
   ],
   "source": [
    "dataset = load_dataset(\n",
    "    \"hf-internal-testing/librispeech_asr_demo\", \"clean\", split=\"validation\")"
   ]
  },
  {
   "cell_type": "code",
   "execution_count": 17,
   "metadata": {},
   "outputs": [
    {
     "data": {
      "text/plain": [
       "Dataset({\n",
       "    features: ['file', 'audio', 'text', 'speaker_id', 'chapter_id', 'id'],\n",
       "    num_rows: 73\n",
       "})"
      ]
     },
     "execution_count": 17,
     "metadata": {},
     "output_type": "execute_result"
    }
   ],
   "source": [
    "dataset"
   ]
  },
  {
   "cell_type": "code",
   "execution_count": 50,
   "metadata": {},
   "outputs": [],
   "source": [
    "from transformers import pipeline\n",
    "import whisper\n",
    "\n",
    "\n",
    "def transcribe(model, audio, size='tiny'):\n",
    "    if 'wav' in model:\n",
    "        model = pipeline(task='automatic-speech-recognition',\n",
    "                     model='facebook/wav2vec2-large-960h')\n",
    "        text = model(audio) \n",
    "        return text[0]\n",
    "    elif 'whisper' in model:\n",
    "        model = whisper.load_model(size)\n",
    "        text = model.transcribe(audio)\n",
    "        return text['text']\n"
   ]
  },
  {
   "cell_type": "code",
   "execution_count": 61,
   "metadata": {},
   "outputs": [
    {
     "name": "stderr",
     "output_type": "stream",
     "text": [
      "/Users/ryanselesnik/dev/AI-toy-investigation/repo/src/backend/venv/lib/python3.8/site-packages/whisper/transcribe.py:78: UserWarning: FP16 is not supported on CPU; using FP32 instead\n",
      "  warnings.warn(\"FP16 is not supported on CPU; using FP32 instead\")\n",
      "/Users/ryanselesnik/dev/AI-toy-investigation/repo/src/backend/venv/lib/python3.8/site-packages/whisper/transcribe.py:78: UserWarning: FP16 is not supported on CPU; using FP32 instead\n",
      "  warnings.warn(\"FP16 is not supported on CPU; using FP32 instead\")\n"
     ]
    }
   ],
   "source": [
    "import pandas as pd\n",
    "import statistics\n",
    "\n",
    "from regex import R\n",
    "rtf_data = pd.DataFrame()\n",
    "rtf_data['model'] = ['tiny', 'base']\n",
    "# For each model size\n",
    "for i, model_size in enumerate(rtf_data['model']):\n",
    "    inference_times = []\n",
    "    sample_durations = []\n",
    "    rtfs = []\n",
    "    # For each audio file in the dataset \n",
    "    for audio in dataset[:5]['audio']:\n",
    "        audio_data = audio['array']\n",
    "        start = time.perf_counter()\n",
    "        transcribe('whisper', audio_data, size=model_size)\n",
    "        inf_time = time.perf_counter() - start\n",
    "        inference_times.append(inf_time)\n",
    "\n",
    "        sample_duration = len(list(audio_data)) / 16000.0 # sample rate\n",
    "        sample_durations.append(sample_duration)\n",
    "\n",
    "        rtfs.append(inf_time / sample_duration)\n",
    "        \n",
    "\n",
    "\n",
    "    # append mean infereance time to the correspond model size row\n",
    "    rtf_data.at[i, 'av_inf_time'] = statistics.fmean(inference_times)\n",
    "    rtf_data.at[i, 'av_duration'] = statistics.fmean(sample_durations)\n",
    "    rtf_data.at[i, 'av_RTF'] = statistics.fmean(rtfs)\n",
    "\n",
    "\n"
   ]
  },
  {
   "cell_type": "code",
   "execution_count": 62,
   "metadata": {},
   "outputs": [
    {
     "data": {
      "text/html": [
       "<div>\n",
       "<style scoped>\n",
       "    .dataframe tbody tr th:only-of-type {\n",
       "        vertical-align: middle;\n",
       "    }\n",
       "\n",
       "    .dataframe tbody tr th {\n",
       "        vertical-align: top;\n",
       "    }\n",
       "\n",
       "    .dataframe thead th {\n",
       "        text-align: right;\n",
       "    }\n",
       "</style>\n",
       "<table border=\"1\" class=\"dataframe\">\n",
       "  <thead>\n",
       "    <tr style=\"text-align: right;\">\n",
       "      <th></th>\n",
       "      <th>model</th>\n",
       "      <th>time</th>\n",
       "      <th>sample_length</th>\n",
       "      <th>RTF</th>\n",
       "    </tr>\n",
       "  </thead>\n",
       "  <tbody>\n",
       "    <tr>\n",
       "      <th>0</th>\n",
       "      <td>tiny</td>\n",
       "      <td>4.179262</td>\n",
       "      <td>12.491</td>\n",
       "      <td>0.442954</td>\n",
       "    </tr>\n",
       "    <tr>\n",
       "      <th>1</th>\n",
       "      <td>base</td>\n",
       "      <td>8.566480</td>\n",
       "      <td>12.491</td>\n",
       "      <td>0.814013</td>\n",
       "    </tr>\n",
       "  </tbody>\n",
       "</table>\n",
       "</div>"
      ],
      "text/plain": [
       "  model      time  sample_length       RTF\n",
       "0  tiny  4.179262         12.491  0.442954\n",
       "1  base  8.566480         12.491  0.814013"
      ]
     },
     "execution_count": 62,
     "metadata": {},
     "output_type": "execute_result"
    }
   ],
   "source": [
    "rtf_data\n"
   ]
  },
  {
   "cell_type": "code",
   "execution_count": null,
   "metadata": {},
   "outputs": [],
   "source": []
  }
 ],
 "metadata": {
  "kernelspec": {
   "display_name": "Python 3.8.3 ('venv': venv)",
   "language": "python",
   "name": "python3"
  },
  "language_info": {
   "codemirror_mode": {
    "name": "ipython",
    "version": 3
   },
   "file_extension": ".py",
   "mimetype": "text/x-python",
   "name": "python",
   "nbconvert_exporter": "python",
   "pygments_lexer": "ipython3",
   "version": "3.8.3"
  },
  "orig_nbformat": 4,
  "vscode": {
   "interpreter": {
    "hash": "8316eed9747deb27a722cedcac3631cd69c202592f5c5b04ba94b7a03dfa71e0"
   }
  }
 },
 "nbformat": 4,
 "nbformat_minor": 2
}
