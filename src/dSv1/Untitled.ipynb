{
 "cells": [
  {
   "cell_type": "code",
   "execution_count": null,
   "metadata": {},
   "outputs": [],
   "source": [
    "from ASR import ASR\n",
    "from ResponseGenerator import ResponseGenerator"
   ]
  },
  {
   "cell_type": "code",
   "execution_count": null,
   "metadata": {},
   "outputs": [
    {
     "name": "stdout",
     "output_type": "stream",
     "text": [
      "Live ASR\n"
     ]
    },
    {
     "name": "stderr",
     "output_type": "stream",
     "text": [
      "Some weights of Wav2Vec2ForCTC were not initialized from the model checkpoint at facebook/wav2vec2-base-960h and are newly initialized: ['wav2vec2.masked_spec_embed']\n",
      "You should probably TRAIN this model on a down-stream task to be able to use it for predictions and inference.\n",
      "Unigrams not provided and cannot be automatically determined from LM file (only arpa format). Decoding accuracy might be reduced.\n",
      "Found entries of length > 1 in alphabet. This is unusual unless style is BPE, but the alphabet was not recognized as BPE type. Is this correct?\n",
      "No known unigrams provided, decoding results might be a lot worse.\n"
     ]
    },
    {
     "name": "stdout",
     "output_type": "stream",
     "text": [
      "\n",
      "listening to your voice\n",
      "\n",
      "6.690s\t1.162\ton my name is rhyne\n",
      "13.830s\t1.872\thello hello my name is mine\n",
      "2.250s\t0.385\ti have to eat food\n"
     ]
    }
   ],
   "source": [
    "print(\"Live ASR\")\n",
    "asr = ASR(\"facebook/wav2vec2-base-960h\")\n",
    "rg = Re\n",
    "# asr = ASR(\"patrickvonplaten/wav2vec2-base-100h-with-lm\")\n",
    "\n",
    "asr.start()\n",
    "\n",
    "try:\n",
    "    while True:\n",
    "        text, sample_length, inference_time = asr.get_last_text()\n",
    "        print(\n",
    "            f\"{sample_length:.3f}s\\t{inference_time:.3f}\\t{text}\")\n",
    "\n",
    "except KeyboardInterrupt:\n",
    "        asr.stop()\n",
    "        exit()"
   ]
  },
  {
   "cell_type": "code",
   "execution_count": 1,
   "metadata": {},
   "outputs": [
    {
     "name": "stdout",
     "output_type": "stream",
     "text": [
      "zsh:1: command not found: nvidia-smi\n"
     ]
    }
   ],
   "source": []
  },
  {
   "cell_type": "code",
   "execution_count": null,
   "metadata": {},
   "outputs": [],
   "source": []
  }
 ],
 "metadata": {
  "kernelspec": {
   "display_name": ".env",
   "language": "python",
   "name": ".env"
  },
  "language_info": {
   "codemirror_mode": {
    "name": "ipython",
    "version": 3
   },
   "file_extension": ".py",
   "mimetype": "text/x-python",
   "name": "python",
   "nbconvert_exporter": "python",
   "pygments_lexer": "ipython3",
   "version": "3.8.3"
  }
 },
 "nbformat": 4,
 "nbformat_minor": 4
}
