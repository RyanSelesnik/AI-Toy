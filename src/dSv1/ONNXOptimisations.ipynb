{
 "cells": [
  {
   "cell_type": "code",
   "execution_count": 7,
   "metadata": {},
   "outputs": [],
   "source": [
    "import argparse\n",
    "import torch\n",
    "import transformers\n",
    "from transformers import AutoModelForCausalLM, AutoTokenizer\n",
    "import transformers.convert_graph_to_onnx as onnx_convert\n",
    "from pathlib import Path"
   ]
  },
  {
   "cell_type": "code",
   "execution_count": null,
   "metadata": {},
   "outputs": [],
   "source": [
    "# Installl ONNX model \n",
    "# !python3 -m transformers.onnx --model=microsoft/DialoGPT-medium onnx/"
   ]
  },
  {
   "cell_type": "code",
   "execution_count": 1,
   "metadata": {},
   "outputs": [
    {
     "name": "stdout",
     "output_type": "stream",
     "text": [
      "Requirement already satisfied: onnx in /Users/ryanselesnik/dev/AI-toy-investigation/repo/.env/lib/python3.8/site-packages (1.12.0)\n",
      "Requirement already satisfied: onnxruntime in /Users/ryanselesnik/dev/AI-toy-investigation/repo/.env/lib/python3.8/site-packages (1.12.1)\n",
      "Requirement already satisfied: typing-extensions>=3.6.2.1 in /Users/ryanselesnik/dev/AI-toy-investigation/repo/.env/lib/python3.8/site-packages (from onnx) (4.3.0)\n",
      "Collecting protobuf<=3.20.1,>=3.12.2 (from onnx)\n",
      "  Using cached https://files.pythonhosted.org/packages/bf/2a/8924d1fbdf6cec34e9e58ee84b2a8bbdb2b58730c4cfab5a29934977ea6d/protobuf-3.20.1-cp38-cp38-macosx_10_9_x86_64.whl\n",
      "Requirement already satisfied: numpy>=1.16.6 in /Users/ryanselesnik/dev/AI-toy-investigation/repo/.env/lib/python3.8/site-packages (from onnx) (1.23.3)\n",
      "Requirement already satisfied: coloredlogs in /Users/ryanselesnik/dev/AI-toy-investigation/repo/.env/lib/python3.8/site-packages (from onnxruntime) (15.0.1)\n",
      "Requirement already satisfied: sympy in /Users/ryanselesnik/dev/AI-toy-investigation/repo/.env/lib/python3.8/site-packages (from onnxruntime) (1.11.1)\n",
      "Requirement already satisfied: packaging in /Users/ryanselesnik/dev/AI-toy-investigation/repo/.env/lib/python3.8/site-packages (from onnxruntime) (21.3)\n",
      "Requirement already satisfied: flatbuffers in /Users/ryanselesnik/dev/AI-toy-investigation/repo/.env/lib/python3.8/site-packages (from onnxruntime) (1.12)\n",
      "Requirement already satisfied: humanfriendly>=9.1 in /Users/ryanselesnik/dev/AI-toy-investigation/repo/.env/lib/python3.8/site-packages (from coloredlogs->onnxruntime) (10.0)\n",
      "Requirement already satisfied: mpmath>=0.19 in /Users/ryanselesnik/dev/AI-toy-investigation/repo/.env/lib/python3.8/site-packages (from sympy->onnxruntime) (1.2.1)\n",
      "Requirement already satisfied: pyparsing!=3.0.5,>=2.0.2 in /Users/ryanselesnik/dev/AI-toy-investigation/repo/.env/lib/python3.8/site-packages (from packaging->onnxruntime) (3.0.9)\n",
      "Installing collected packages: protobuf\n",
      "  Found existing installation: protobuf 4.21.6\n",
      "    Uninstalling protobuf-4.21.6:\n",
      "      Successfully uninstalled protobuf-4.21.6\n",
      "Successfully installed protobuf-3.20.1\n",
      "\u001b[33mWARNING: You are using pip version 19.2.3, however version 22.2.2 is available.\n",
      "You should consider upgrading via the 'pip install --upgrade pip' command.\u001b[0m\n"
     ]
    }
   ],
   "source": [
    "!pip install onnx onnxruntime"
   ]
  },
  {
   "cell_type": "code",
   "execution_count": 2,
   "metadata": {},
   "outputs": [
    {
     "ename": "",
     "evalue": "",
     "output_type": "error",
     "traceback": [
      "\u001b[1;31mCanceled future for execute_request message before replies were done"
     ]
    },
    {
     "ename": "",
     "evalue": "",
     "output_type": "error",
     "traceback": [
      "\u001b[1;31mThe Kernel crashed while executing code in the the current cell or a previous cell. Please review the code in the cell(s) to identify a possible cause of the failure. Click <a href='https://aka.ms/vscodeJupyterKernelCrash'>here</a> for more info. View Jupyter <a href='command:jupyter.viewOutput'>log</a> for further details."
     ]
    }
   ],
   "source": [
    "from onnxruntime.quantization import quantize_dynamic, QuantType\n",
    "\n",
    "quantize_dynamic('onnx/model.onnx', 'DailoGPT-medium-INT8.onnx',\n",
    "                 weight_type=QuantType.QUInt8, use_external_data_format=True)\n"
   ]
  },
  {
   "cell_type": "code",
   "execution_count": null,
   "metadata": {},
   "outputs": [],
   "source": []
  }
 ],
 "metadata": {
  "kernelspec": {
   "display_name": "Python 3.8.3 ('.env': venv)",
   "language": "python",
   "name": "python3"
  },
  "language_info": {
   "codemirror_mode": {
    "name": "ipython",
    "version": 3
   },
   "file_extension": ".py",
   "mimetype": "text/x-python",
   "name": "python",
   "nbconvert_exporter": "python",
   "pygments_lexer": "ipython3",
   "version": "3.8.3"
  },
  "orig_nbformat": 4,
  "vscode": {
   "interpreter": {
    "hash": "007acf35dd4916cde76d39573ed35e5c911caaeed30a7c1740cae101edebfe10"
   }
  }
 },
 "nbformat": 4,
 "nbformat_minor": 2
}
